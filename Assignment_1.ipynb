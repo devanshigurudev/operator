{
  "nbformat": 4,
  "nbformat_minor": 0,
  "metadata": {
    "colab": {
      "provenance": []
    },
    "kernelspec": {
      "name": "python3",
      "display_name": "Python 3"
    },
    "language_info": {
      "name": "python"
    }
  },
  "cells": [
    {
      "cell_type": "markdown",
      "source": [
        "### **Exercise 1: Arithmetic Operations**"
      ],
      "metadata": {
        "id": "Cw1caRfAMaBB"
      }
    },
    {
      "cell_type": "markdown",
      "source": [
        "Take two numbers as input and calculate their sum, difference, product, quotient, and remainder using arithmetic operators."
      ],
      "metadata": {
        "id": "7OJwTIHWCInX"
      }
    },
    {
      "cell_type": "code",
      "source": [
        "num1 = float(input(\"Enter the first number: \"))\n",
        "num2 = float(input(\"Enter the second number: \"))\n",
        "\n",
        "sum_result = num1 + num2\n",
        "difference_result = num1 - num2\n",
        "product_result = num1 * num2\n",
        "quotient_result = num1 / num2\n",
        "remainder_result = num1 % num2\n",
        "\n",
        "print(f\"Sum: {sum_result}\")\n",
        "print(f\"Difference: {difference_result}\")\n",
        "print(f\"Product: {product_result}\")\n",
        "print(f\"Quotient: {quotient_result}\")\n",
        "print(f\"Remainder: {remainder_result}\")\n"
      ],
      "metadata": {
        "colab": {
          "base_uri": "https://localhost:8080/"
        },
        "id": "urdEn70UL_ud",
        "outputId": "12da7967-9982-4ba3-caf6-e5ab3321302c"
      },
      "execution_count": null,
      "outputs": [
        {
          "output_type": "stream",
          "name": "stdout",
          "text": [
            "Enter the first number: 10\n",
            "Enter the second number: 20\n",
            "Sum: 30.0\n",
            "Difference: -10.0\n",
            "Product: 200.0\n",
            "Quotient: 0.5\n",
            "Remainder: 10.0\n"
          ]
        }
      ]
    },
    {
      "cell_type": "markdown",
      "source": [
        "### **Exercise 2: Comparison Operators**"
      ],
      "metadata": {
        "id": "nvGVcn4PMizN"
      }
    },
    {
      "cell_type": "markdown",
      "source": [
        "Take two numbers as input and determine whether they are equal, not equal, greater than, and less than each other using comparison operators."
      ],
      "metadata": {
        "id": "gF7ldCXsCPr1"
      }
    },
    {
      "cell_type": "code",
      "source": [
        "num1 = float(input(\"Enter the first number: \"))\n",
        "num2 = float(input(\"Enter the second number: \"))\n",
        "\n",
        "equal = num1 == num2\n",
        "not_equal = num1 != num2\n",
        "greater_than = num1 > num2\n",
        "less_than = num1 < num2\n",
        "\n",
        "print(f\"{num1} is equal to {num2}: {equal}\")\n",
        "print(f\"{num1} is not equal to {num2}: {not_equal}\")\n",
        "print(f\"{num1} is greater than {num2}: {greater_than}\")\n",
        "print(f\"{num1} is less than {num2}: {less_than}\")"
      ],
      "metadata": {
        "colab": {
          "base_uri": "https://localhost:8080/"
        },
        "id": "-E3emN51MtVz",
        "outputId": "a1e6f63d-f329-4643-b944-a4e0326e24c9"
      },
      "execution_count": null,
      "outputs": [
        {
          "output_type": "stream",
          "name": "stdout",
          "text": [
            "Enter the first number: 10\n",
            "Enter the second number: 20\n",
            "10.0 is equal to 20.0: False\n",
            "10.0 is not equal to 20.0: True\n",
            "10.0 is greater than 20.0: False\n",
            "10.0 is less than 20.0: True\n"
          ]
        }
      ]
    },
    {
      "cell_type": "markdown",
      "source": [
        "### **Exercise 3: Logical Operators**"
      ],
      "metadata": {
        "id": "vSQmt_QhNXvd"
      }
    },
    {
      "cell_type": "markdown",
      "source": [
        "Take two boolean values as input and print the result of their AND, OR, and NOT operations using logical operators."
      ],
      "metadata": {
        "id": "QH85qqwxCUvO"
      }
    },
    {
      "cell_type": "code",
      "source": [
        "bool1 = bool(input(\"Enter the first boolean value (True or False): \"))\n",
        "bool2 = bool(input(\"Enter the second boolean value (True or False): \"))\n",
        "\n",
        "and_result = bool1 and bool2\n",
        "or_result = bool1 or bool2\n",
        "not_result1 = not bool1\n",
        "not_result2 = not bool2\n",
        "\n",
        "print(f\"AND result: {and_result}\")\n",
        "print(f\"OR result: {or_result}\")\n",
        "print(f\"NOT result for {bool1}: {not_result1}\")\n",
        "print(f\"NOT result for {bool2}: {not_result2}\")"
      ],
      "metadata": {
        "colab": {
          "base_uri": "https://localhost:8080/"
        },
        "id": "mai4WZroemQL",
        "outputId": "2a9eda2c-16ae-411a-e4a1-eea51dc28022"
      },
      "execution_count": null,
      "outputs": [
        {
          "output_type": "stream",
          "name": "stdout",
          "text": [
            "Enter the first boolean value (True or False): true\n",
            "Enter the second boolean value (True or False): false\n",
            "AND result: True\n",
            "OR result: True\n",
            "NOT result for True: False\n",
            "NOT result for True: False\n"
          ]
        }
      ]
    },
    {
      "cell_type": "markdown",
      "source": [
        "### **Exercise 4: Bitwise Operations**"
      ],
      "metadata": {
        "id": "fyy0pDygfVEF"
      }
    },
    {
      "cell_type": "markdown",
      "source": [
        "Take two integer numbers as input and perform bitwise AND, OR, XOR, and NOT operations on them."
      ],
      "metadata": {
        "id": "XE5rG4cJCWBs"
      }
    },
    {
      "cell_type": "code",
      "source": [
        "num1 = int(input(\"Enter the first integer number: \"))\n",
        "num2 = int(input(\"Enter the second integer number: \"))\n",
        "\n",
        "bitwise_and_result = num1 & num2\n",
        "bitwise_or_result = num1 | num2\n",
        "bitwise_xor_result = num1 ^ num2\n",
        "bitwise_not_result1 = ~num1\n",
        "bitwise_not_result2 = ~num2\n",
        "\n",
        "print(f\"Bitwise AND result: {bitwise_and_result}\")\n",
        "print(f\"Bitwise OR result: {bitwise_or_result}\")\n",
        "print(f\"Bitwise XOR result: {bitwise_xor_result}\")\n",
        "print(f\"Bitwise NOT result for {num1}: {bitwise_not_result1}\")\n",
        "print(f\"Bitwise NOT result for {num2}: {bitwise_not_result2}\")"
      ],
      "metadata": {
        "colab": {
          "base_uri": "https://localhost:8080/"
        },
        "id": "kS4ZhExlf-B1",
        "outputId": "463727f2-08e4-457c-8511-9ca7de5d7496"
      },
      "execution_count": null,
      "outputs": [
        {
          "output_type": "stream",
          "name": "stdout",
          "text": [
            "Enter the first integer number: 10\n",
            "Enter the second integer number: 20\n",
            "Bitwise AND result: 0\n",
            "Bitwise OR result: 30\n",
            "Bitwise XOR result: 30\n",
            "Bitwise NOT result for 10: -11\n",
            "Bitwise NOT result for 20: -21\n"
          ]
        }
      ]
    },
    {
      "cell_type": "markdown",
      "source": [
        "### **Exercise 5: Precedence of Operators**"
      ],
      "metadata": {
        "id": "YdbAeAOlghNV"
      }
    },
    {
      "cell_type": "markdown",
      "source": [
        "Take three numbers as input and create an expression using addition, subtraction, multiplication, and division. Print the result considering operator precedence"
      ],
      "metadata": {
        "id": "2mUNbPTcCeUp"
      }
    },
    {
      "cell_type": "code",
      "source": [
        "num1 = float(input(\"Enter the first number: \"))\n",
        "num2 = float(input(\"Enter the second number: \"))\n",
        "num3 = float(input(\"Enter the third number: \"))\n",
        "\n",
        "result = num1 + num2 - num3 * num1 / num2\n",
        "\n",
        "print(\"Result:\", result)"
      ],
      "metadata": {
        "colab": {
          "base_uri": "https://localhost:8080/"
        },
        "id": "iNn7vvjGgoOJ",
        "outputId": "f3f44d9b-532d-40db-87bc-ddae49e2b33a"
      },
      "execution_count": null,
      "outputs": [
        {
          "output_type": "stream",
          "name": "stdout",
          "text": [
            "Enter the first number: 10\n",
            "Enter the second number: 20\n",
            "Enter the third number: 30\n",
            "Result: 15.0\n"
          ]
        }
      ]
    },
    {
      "cell_type": "markdown",
      "source": [
        "### **Exercise 6: Mixed Operators**"
      ],
      "metadata": {
        "id": "cASXefgHhXgO"
      }
    },
    {
      "cell_type": "markdown",
      "source": [
        "Take two numbers as input and calculate the result of the expression `(a + b) * (a - b) / (a ** b)` using arithmetic operators."
      ],
      "metadata": {
        "id": "D14pFOExClue"
      }
    },
    {
      "cell_type": "code",
      "source": [
        "a = float(input(\"Enter the value of 'a': \"))\n",
        "b = float(input(\"Enter the value of 'b': \"))\n",
        "\n",
        "result = (a + b) * (a - b) / (a ** b)\n",
        "\n",
        "print(\"Result:\", result)"
      ],
      "metadata": {
        "colab": {
          "base_uri": "https://localhost:8080/"
        },
        "id": "JNzsh1UXhbbf",
        "outputId": "e21f57f0-89ef-4d4d-967d-5f64f5e73098"
      },
      "execution_count": null,
      "outputs": [
        {
          "output_type": "stream",
          "name": "stdout",
          "text": [
            "Enter the value of 'a': 2\n",
            "Enter the value of 'b': 1\n",
            "Result: 1.5\n"
          ]
        }
      ]
    },
    {
      "cell_type": "markdown",
      "source": [
        "### **Exercise 7: Complex Comparison**"
      ],
      "metadata": {
        "id": "EDE6cwwpi_j5"
      }
    },
    {
      "cell_type": "markdown",
      "source": [
        "Take three numbers as input and determine if the first number is strictly between the second and third numbers (exclusive), using comparison operators."
      ],
      "metadata": {
        "id": "kimQMVR-Cqsa"
      }
    },
    {
      "cell_type": "code",
      "source": [
        "num1 = float(input(\"Enter the first number: \"))\n",
        "num2 = float(input(\"Enter the second number: \"))\n",
        "num3 = float(input(\"Enter the third number: \"))\n",
        "\n",
        "is_between = num2 < num1 < num3\n",
        "\n",
        "print(f\"{num1} is strictly between {num2} and {num3}.\")\n"
      ],
      "metadata": {
        "colab": {
          "base_uri": "https://localhost:8080/"
        },
        "id": "X06wIMHsjFMr",
        "outputId": "5c80f6d1-7134-412e-af4c-7d4093625ca2"
      },
      "execution_count": null,
      "outputs": [
        {
          "output_type": "stream",
          "name": "stdout",
          "text": [
            "Enter the first number: 2\n",
            "Enter the second number: 1\n",
            "Enter the third number: 3\n",
            "2.0 is strictly between 1.0 and 3.0.\n"
          ]
        }
      ]
    },
    {
      "cell_type": "code",
      "source": [
        "# Taking user input for three numbers\n",
        "num1 = float(input(\"Enter the first number: \"))\n",
        "num2 = float(input(\"Enter the second number: \"))\n",
        "num3 = float(input(\"Enter the third number: \"))\n",
        "\n",
        "# Checking if the first number is strictly between the second and third numbers (exclusive)\n",
        "is_between = num2 < num1 < num3\n",
        "\n",
        "# Displaying the result\n",
        "if is_between:\n",
        "    print(f\"{num1} is strictly between {num2} and {num3}.\")\n",
        "else:\n",
        "    print(f\"{num1} is not strictly between {num2} and {num3}.\")\n"
      ],
      "metadata": {
        "colab": {
          "base_uri": "https://localhost:8080/"
        },
        "id": "4Op5T1BEkEY9",
        "outputId": "63a5e894-6a8b-4200-c1c8-178b9f12f391"
      },
      "execution_count": null,
      "outputs": [
        {
          "output_type": "stream",
          "name": "stdout",
          "text": [
            "Enter the first number: 10\n",
            "Enter the second number: 1\n",
            "Enter the third number: 3\n",
            "10.0 is not strictly between 1.0 and 3.0.\n"
          ]
        }
      ]
    },
    {
      "cell_type": "markdown",
      "source": [
        "### **Exercise 8: Convert Seconds**"
      ],
      "metadata": {
        "id": "QoSLyFltCvbx"
      }
    },
    {
      "cell_type": "markdown",
      "source": [
        "Take the number of seconds as input and convert it into hours, minutes, and remaining seconds using arithmetic operators."
      ],
      "metadata": {
        "id": "DqUg-agICzJ0"
      }
    },
    {
      "cell_type": "code",
      "source": [
        "total_seconds = int(input(\"Enter the number of seconds: \"))\n",
        "\n",
        "hours = total_seconds // 3600\n",
        "remaining_seconds = total_seconds % 3600\n",
        "minutes = remaining_seconds // 60\n",
        "seconds = remaining_seconds % 60\n",
        "\n",
        "print(f\"{total_seconds} seconds is equal to {hours} hours, {minutes} minutes, and {seconds} seconds.\")\n"
      ],
      "metadata": {
        "colab": {
          "base_uri": "https://localhost:8080/"
        },
        "id": "sagDkDPjC2ts",
        "outputId": "d1e0f3eb-1cad-4302-b66d-e57ed0d1cfc3"
      },
      "execution_count": 4,
      "outputs": [
        {
          "output_type": "stream",
          "name": "stdout",
          "text": [
            "Enter the number of seconds: 140\n",
            "140 seconds is equal to 0 hours, 2 minutes, and 20 seconds.\n"
          ]
        }
      ]
    },
    {
      "cell_type": "markdown",
      "source": [
        "### **Exercise 9: Swap Variables**"
      ],
      "metadata": {
        "id": "HsK8cNPpDu5k"
      }
    },
    {
      "cell_type": "markdown",
      "source": [
        "Take two numbers as input and swap their values without using a temporary variable, using arithmetic operators."
      ],
      "metadata": {
        "id": "2YmC4JqeDz6F"
      }
    },
    {
      "cell_type": "code",
      "source": [
        "num1 = float(input(\"Enter the first number: \"))\n",
        "num2 = float(input(\"Enter the second number: \"))\n",
        "\n",
        "num1 = num1 + num2\n",
        "num2 = num1 - num2\n",
        "num1 = num1 - num2\n",
        "\n",
        "print(f\"After swapping, num1 is: {num1}\")\n",
        "print(f\"After swapping, num2 is: {num2}\")\n"
      ],
      "metadata": {
        "colab": {
          "base_uri": "https://localhost:8080/"
        },
        "id": "_2tkC2ZhD3gR",
        "outputId": "ab5d0293-60e9-4603-a727-3c997fa7b443"
      },
      "execution_count": 5,
      "outputs": [
        {
          "output_type": "stream",
          "name": "stdout",
          "text": [
            "Enter the first number: 2\n",
            "Enter the second number: 3\n",
            "After swapping, num1 is: 3.0\n",
            "After swapping, num2 is: 2.0\n"
          ]
        }
      ]
    },
    {
      "cell_type": "markdown",
      "source": [
        "### **Exercise 10: Investment Growth**"
      ],
      "metadata": {
        "id": "r7Qc5hGeEUGM"
      }
    },
    {
      "cell_type": "markdown",
      "source": [
        "Take the principal amount, interest rate, and number of years as input. Calculate the final amount using the formula `A = P * (1 + r/n) ** (nt)`, where `n` is the number of times interest is compounded per year and `t` is the number of years."
      ],
      "metadata": {
        "id": "9-V1RsEQEap2"
      }
    },
    {
      "cell_type": "code",
      "source": [
        "principal_amount = float(input(\"Enter the principal amount: \"))\n",
        "interest_rate = float(input(\"Enter the annual interest rate (as a decimal): \"))\n",
        "number_of_years = float(input(\"Enter the number of years: \"))\n",
        "compounding_frequency = int(input(\"Enter the compounding frequency per year: \"))\n",
        "\n",
        "n = compounding_frequency\n",
        "t = number_of_years\n",
        "r = interest_rate / n\n",
        "final_amount = principal_amount * (1 + r/n) ** (n * t)\n",
        "\n",
        "print(f\"The final amount after {number_of_years} years is: {final_amount:.2f}\")\n"
      ],
      "metadata": {
        "colab": {
          "base_uri": "https://localhost:8080/"
        },
        "id": "6ANTt4jsEbny",
        "outputId": "c29d4859-ef5b-44ef-e90a-b1155e9279bd"
      },
      "execution_count": 6,
      "outputs": [
        {
          "output_type": "stream",
          "name": "stdout",
          "text": [
            "Enter the principal amount: 10\n",
            "Enter the annual interest rate (as a decimal): 2.5\n",
            "Enter the number of years: 5\n",
            "Enter the compounding frequency per year: 12\n",
            "The final amount after 5.0 years is: 28.09\n"
          ]
        }
      ]
    },
    {
      "cell_type": "markdown",
      "source": [
        "### **Exercise 11: Temperature Converter**"
      ],
      "metadata": {
        "id": "0njPirg4Ewev"
      }
    },
    {
      "cell_type": "markdown",
      "source": [
        "Take the temperature in Celsius as input and convert it to Kelvin and Fahrenheit using appropriate operators."
      ],
      "metadata": {
        "id": "PRF41vnUEyds"
      }
    },
    {
      "cell_type": "code",
      "source": [
        "temperature_celsius = float(input(\"Enter the temperature in Celsius: \"))\n",
        "\n",
        "temperature_kelvin = temperature_celsius + 273.15\n",
        "temperature_fahrenheit = (temperature_celsius * 9/5) + 32\n",
        "\n",
        "print(f\"Temperature in Kelvin: {temperature_kelvin:.2f} K\")\n",
        "print(f\"Temperature in Fahrenheit: {temperature_fahrenheit:.2f} °F\")\n"
      ],
      "metadata": {
        "colab": {
          "base_uri": "https://localhost:8080/"
        },
        "id": "tlgIZDnyE5bH",
        "outputId": "c8d8d471-40e4-4045-deb8-4a4667fd47e0"
      },
      "execution_count": 8,
      "outputs": [
        {
          "output_type": "stream",
          "name": "stdout",
          "text": [
            "Enter the temperature in Celsius: 32\n",
            "Temperature in Kelvin: 305.15 K\n",
            "Temperature in Fahrenheit: 89.60 °F\n"
          ]
        }
      ]
    },
    {
      "cell_type": "markdown",
      "source": [
        "### **Exercise 12: Speed Calculator**"
      ],
      "metadata": {
        "id": "hvTwHoFRFuUu"
      }
    },
    {
      "cell_type": "markdown",
      "source": [
        "Take the distance (in kilometers) and time (in hours) as input. Calculate the speed in kilometers per hour using arithmetic operators."
      ],
      "metadata": {
        "id": "vqUtGHhIF0QF"
      }
    },
    {
      "cell_type": "code",
      "source": [
        "distance = float(input(\"Enter the distance in kilometers: \"))\n",
        "time = float(input(\"Enter the time in hours: \"))\n",
        "\n",
        "speed = distance / time\n",
        "\n",
        "print(f\"The speed is: {speed:.2f} kilometers per hour\")"
      ],
      "metadata": {
        "colab": {
          "base_uri": "https://localhost:8080/"
        },
        "id": "MsflLIgZF34q",
        "outputId": "86c1c24c-1be1-4ae1-cb43-922a552768a8"
      },
      "execution_count": 12,
      "outputs": [
        {
          "output_type": "stream",
          "name": "stdout",
          "text": [
            "Enter the distance in kilometers: 90\n",
            "Enter the time in hours: 1.5\n",
            "The speed is: 60.00 kilometers per hour\n"
          ]
        }
      ]
    },
    {
      "cell_type": "markdown",
      "source": [
        "### **Exercise 13: Triangle Area Calculator**"
      ],
      "metadata": {
        "id": "THAs4XNAGXyz"
      }
    },
    {
      "cell_type": "markdown",
      "source": [
        "Take the base and height of a triangle as input. Calculate and print its area using arithmetic operators."
      ],
      "metadata": {
        "id": "to5WWkf_Gcjr"
      }
    },
    {
      "cell_type": "code",
      "source": [
        "base = float(input(\"Enter the base of the triangle: \"))\n",
        "height = float(input(\"Enter the height of the triangle: \"))\n",
        "\n",
        "area = 0.5 * base * height\n",
        "\n",
        "print(f\"The area of the triangle is: {area:.2f} square units\")"
      ],
      "metadata": {
        "colab": {
          "base_uri": "https://localhost:8080/"
        },
        "id": "QvugSkNwGfty",
        "outputId": "c3d9a016-a125-41ed-dc3c-50226bbdc4f1"
      },
      "execution_count": 13,
      "outputs": [
        {
          "output_type": "stream",
          "name": "stdout",
          "text": [
            "Enter the base of the triangle: 5\n",
            "Enter the height of the triangle: 6\n",
            "The area of the triangle is: 15.00 square units\n"
          ]
        }
      ]
    },
    {
      "cell_type": "markdown",
      "source": [
        "### **Exercise 14: Volume of a Sphere**"
      ],
      "metadata": {
        "id": "VYIBngdLGvgo"
      }
    },
    {
      "cell_type": "markdown",
      "source": [
        " Take the radius of a sphere as input. Calculate and print its volume using arithmetic operators."
      ],
      "metadata": {
        "id": "hBi4tEpPG6fn"
      }
    },
    {
      "cell_type": "code",
      "source": [
        "radius = float(input(\"Enter the radius of the sphere: \"))\n",
        "\n",
        "volume = (4/3) * math.pi * (radius ** 3)\n",
        "\n",
        "print(f\"The volume of the sphere is: {volume:.2f} cubic units\")"
      ],
      "metadata": {
        "colab": {
          "base_uri": "https://localhost:8080/"
        },
        "id": "uoZ6n-njG-LR",
        "outputId": "c513b3ed-1875-431a-de58-758b87ad8d08"
      },
      "execution_count": 15,
      "outputs": [
        {
          "output_type": "stream",
          "name": "stdout",
          "text": [
            "Enter the radius of the sphere: 5\n",
            "The volume of the sphere is: 523.60 cubic units\n"
          ]
        }
      ]
    },
    {
      "cell_type": "markdown",
      "source": [
        "### **Exercise 15: Time Conversion**"
      ],
      "metadata": {
        "id": "7iZ36WlzHNW0"
      }
    },
    {
      "cell_type": "markdown",
      "source": [
        "Take a time duration in seconds as input. Convert and print it in the format of hours, minutes, and seconds using arithmetic operators."
      ],
      "metadata": {
        "id": "wxy8DlVqHf0z"
      }
    },
    {
      "cell_type": "code",
      "source": [
        "total_seconds = int(input(\"Enter the time duration in seconds: \"))\n",
        "\n",
        "hours = total_seconds // 3600\n",
        "remaining_seconds = total_seconds % 3600\n",
        "minutes = remaining_seconds // 60\n",
        "seconds = remaining_seconds % 60\n",
        "\n",
        "print(f\"{total_seconds} seconds is equal to {hours} hours, {minutes} minutes, and {seconds} seconds.\")"
      ],
      "metadata": {
        "colab": {
          "base_uri": "https://localhost:8080/"
        },
        "id": "MwNF-pCpHjen",
        "outputId": "8ba372ad-266a-4257-e913-2c81b7b946c5"
      },
      "execution_count": 16,
      "outputs": [
        {
          "output_type": "stream",
          "name": "stdout",
          "text": [
            "Enter the time duration in seconds: 90\n",
            "90 seconds is equal to 0 hours, 1 minutes, and 30 seconds.\n"
          ]
        }
      ]
    }
  ]
}